{
 "cells": [
  {
   "cell_type": "code",
   "execution_count": 1,
   "id": "6b4eab3b",
   "metadata": {},
   "outputs": [],
   "source": [
    "# main libraries\n",
    "import pandas as pd\n",
    "import numpy as np\n",
    "import time\n",
    "\n",
    "# visual libraries\n",
    "from matplotlib import pyplot as plt\n",
    "import matplotlib.gridspec as gridspec\n",
    "import seaborn as sns\n",
    "from mpl_toolkits.mplot3d import Axes3D \n",
    "plt.style.use('ggplot')\n",
    "\n",
    "# sklearn libraries\n",
    "from sklearn.neighbors import KNeighborsClassifier\n",
    "from sklearn.model_selection import train_test_split\n",
    "from sklearn.preprocessing import normalize\n",
    "from sklearn.metrics import confusion_matrix,accuracy_score,precision_score,recall_score,f1_score,matthews_corrcoef,classification_report,roc_curve\n",
    "import joblib\n",
    "from sklearn.preprocessing import StandardScaler\n",
    "from sklearn.decomposition import PCA"
   ]
  },
  {
   "cell_type": "markdown",
   "id": "32e854cd",
   "metadata": {},
   "source": [
    "# In this notebook, we will be using the binary encoded training and test data based on our observations after performing Random Forest Classification"
   ]
  },
  {
   "cell_type": "code",
   "execution_count": 2,
   "id": "cce4ac85",
   "metadata": {},
   "outputs": [],
   "source": [
    "df_train = pd.read_csv('binary_SMOTE_train.csv', index_col = 'Unnamed: 0')\n",
    "df_test = pd.read_csv('test_binary.csv', index_col = 'Unnamed: 0')"
   ]
  },
  {
   "cell_type": "code",
   "execution_count": 3,
   "id": "e47eb922",
   "metadata": {},
   "outputs": [
    {
     "data": {
      "text/html": [
       "<div>\n",
       "<style scoped>\n",
       "    .dataframe tbody tr th:only-of-type {\n",
       "        vertical-align: middle;\n",
       "    }\n",
       "\n",
       "    .dataframe tbody tr th {\n",
       "        vertical-align: top;\n",
       "    }\n",
       "\n",
       "    .dataframe thead th {\n",
       "        text-align: right;\n",
       "    }\n",
       "</style>\n",
       "<table border=\"1\" class=\"dataframe\">\n",
       "  <thead>\n",
       "    <tr style=\"text-align: right;\">\n",
       "      <th></th>\n",
       "      <th>amt</th>\n",
       "      <th>city_pop</th>\n",
       "      <th>time</th>\n",
       "      <th>distance</th>\n",
       "      <th>cc_num_0</th>\n",
       "      <th>cc_num_1</th>\n",
       "      <th>cc_num_2</th>\n",
       "      <th>cc_num_3</th>\n",
       "      <th>cc_num_4</th>\n",
       "      <th>cc_num_5</th>\n",
       "      <th>...</th>\n",
       "      <th>identifiers_1</th>\n",
       "      <th>identifiers_2</th>\n",
       "      <th>identifiers_3</th>\n",
       "      <th>identifiers_4</th>\n",
       "      <th>identifiers_5</th>\n",
       "      <th>identifiers_6</th>\n",
       "      <th>identifiers_7</th>\n",
       "      <th>identifiers_8</th>\n",
       "      <th>identifiers_9</th>\n",
       "      <th>is_fraud</th>\n",
       "    </tr>\n",
       "  </thead>\n",
       "  <tbody>\n",
       "    <tr>\n",
       "      <th>0</th>\n",
       "      <td>60.85</td>\n",
       "      <td>276002</td>\n",
       "      <td>1.560192</td>\n",
       "      <td>69.034830</td>\n",
       "      <td>0</td>\n",
       "      <td>0</td>\n",
       "      <td>0</td>\n",
       "      <td>1</td>\n",
       "      <td>0</td>\n",
       "      <td>0</td>\n",
       "      <td>...</td>\n",
       "      <td>0</td>\n",
       "      <td>0</td>\n",
       "      <td>1</td>\n",
       "      <td>0</td>\n",
       "      <td>0</td>\n",
       "      <td>0</td>\n",
       "      <td>1</td>\n",
       "      <td>1</td>\n",
       "      <td>0</td>\n",
       "      <td>0</td>\n",
       "    </tr>\n",
       "    <tr>\n",
       "      <th>1</th>\n",
       "      <td>80.29</td>\n",
       "      <td>116001</td>\n",
       "      <td>1.587067</td>\n",
       "      <td>106.847670</td>\n",
       "      <td>1</td>\n",
       "      <td>0</td>\n",
       "      <td>1</td>\n",
       "      <td>0</td>\n",
       "      <td>0</td>\n",
       "      <td>1</td>\n",
       "      <td>...</td>\n",
       "      <td>0</td>\n",
       "      <td>1</td>\n",
       "      <td>0</td>\n",
       "      <td>0</td>\n",
       "      <td>1</td>\n",
       "      <td>0</td>\n",
       "      <td>0</td>\n",
       "      <td>1</td>\n",
       "      <td>1</td>\n",
       "      <td>0</td>\n",
       "    </tr>\n",
       "    <tr>\n",
       "      <th>2</th>\n",
       "      <td>76.72</td>\n",
       "      <td>493</td>\n",
       "      <td>1.554160</td>\n",
       "      <td>53.404865</td>\n",
       "      <td>0</td>\n",
       "      <td>1</td>\n",
       "      <td>1</td>\n",
       "      <td>0</td>\n",
       "      <td>1</td>\n",
       "      <td>1</td>\n",
       "      <td>...</td>\n",
       "      <td>1</td>\n",
       "      <td>1</td>\n",
       "      <td>0</td>\n",
       "      <td>1</td>\n",
       "      <td>1</td>\n",
       "      <td>1</td>\n",
       "      <td>1</td>\n",
       "      <td>1</td>\n",
       "      <td>1</td>\n",
       "      <td>0</td>\n",
       "    </tr>\n",
       "    <tr>\n",
       "      <th>3</th>\n",
       "      <td>53.58</td>\n",
       "      <td>76</td>\n",
       "      <td>1.572842</td>\n",
       "      <td>95.372180</td>\n",
       "      <td>0</td>\n",
       "      <td>0</td>\n",
       "      <td>1</td>\n",
       "      <td>1</td>\n",
       "      <td>1</td>\n",
       "      <td>0</td>\n",
       "      <td>...</td>\n",
       "      <td>0</td>\n",
       "      <td>1</td>\n",
       "      <td>1</td>\n",
       "      <td>1</td>\n",
       "      <td>0</td>\n",
       "      <td>0</td>\n",
       "      <td>0</td>\n",
       "      <td>1</td>\n",
       "      <td>1</td>\n",
       "      <td>0</td>\n",
       "    </tr>\n",
       "    <tr>\n",
       "      <th>4</th>\n",
       "      <td>52.99</td>\n",
       "      <td>498</td>\n",
       "      <td>1.592052</td>\n",
       "      <td>89.384020</td>\n",
       "      <td>0</td>\n",
       "      <td>1</td>\n",
       "      <td>0</td>\n",
       "      <td>0</td>\n",
       "      <td>0</td>\n",
       "      <td>1</td>\n",
       "      <td>...</td>\n",
       "      <td>1</td>\n",
       "      <td>0</td>\n",
       "      <td>0</td>\n",
       "      <td>0</td>\n",
       "      <td>1</td>\n",
       "      <td>1</td>\n",
       "      <td>0</td>\n",
       "      <td>1</td>\n",
       "      <td>1</td>\n",
       "      <td>0</td>\n",
       "    </tr>\n",
       "  </tbody>\n",
       "</table>\n",
       "<p>5 rows × 84 columns</p>\n",
       "</div>"
      ],
      "text/plain": [
       "     amt  city_pop      time    distance  cc_num_0  cc_num_1  cc_num_2  \\\n",
       "0  60.85    276002  1.560192   69.034830         0         0         0   \n",
       "1  80.29    116001  1.587067  106.847670         1         0         1   \n",
       "2  76.72       493  1.554160   53.404865         0         1         1   \n",
       "3  53.58        76  1.572842   95.372180         0         0         1   \n",
       "4  52.99       498  1.592052   89.384020         0         1         0   \n",
       "\n",
       "   cc_num_3  cc_num_4  cc_num_5  ...  identifiers_1  identifiers_2  \\\n",
       "0         1         0         0  ...              0              0   \n",
       "1         0         0         1  ...              0              1   \n",
       "2         0         1         1  ...              1              1   \n",
       "3         1         1         0  ...              0              1   \n",
       "4         0         0         1  ...              1              0   \n",
       "\n",
       "   identifiers_3  identifiers_4  identifiers_5  identifiers_6  identifiers_7  \\\n",
       "0              1              0              0              0              1   \n",
       "1              0              0              1              0              0   \n",
       "2              0              1              1              1              1   \n",
       "3              1              1              0              0              0   \n",
       "4              0              0              1              1              0   \n",
       "\n",
       "   identifiers_8  identifiers_9  is_fraud  \n",
       "0              1              0         0  \n",
       "1              1              1         0  \n",
       "2              1              1         0  \n",
       "3              1              1         0  \n",
       "4              1              1         0  \n",
       "\n",
       "[5 rows x 84 columns]"
      ]
     },
     "execution_count": 3,
     "metadata": {},
     "output_type": "execute_result"
    }
   ],
   "source": [
    "df_train.head()"
   ]
  },
  {
   "cell_type": "code",
   "execution_count": 7,
   "id": "49247be9",
   "metadata": {},
   "outputs": [
    {
     "data": {
      "text/plain": [
       "0"
      ]
     },
     "execution_count": 7,
     "metadata": {},
     "output_type": "execute_result"
    }
   ],
   "source": [
    "#counting total nulls within the dataset\n",
    "df_train.isnull().sum().sum()"
   ]
  },
  {
   "cell_type": "code",
   "execution_count": 9,
   "id": "eec22dcf",
   "metadata": {},
   "outputs": [
    {
     "name": "stdout",
     "output_type": "stream",
     "text": [
      "frauds : 50.0 %\n",
      "non frauds : 50.0 %\n"
     ]
    }
   ],
   "source": [
    "All = df_train.shape[0]\n",
    "fraud = df_train[df_train['is_fraud'] == 1]\n",
    "nonFraud = df_train[df_train['is_fraud'] == 0]\n",
    "\n",
    "x = len(fraud)/All\n",
    "y = len(nonFraud)/All\n",
    "\n",
    "print('frauds :',x*100,'%')\n",
    "print('non frauds :',y*100,'%')"
   ]
  },
  {
   "cell_type": "code",
   "execution_count": 10,
   "id": "5b5baf3c",
   "metadata": {
    "scrolled": true
   },
   "outputs": [
    {
     "data": {
      "text/plain": [
       "Text(0, 0.5, 'Frequency')"
      ]
     },
     "execution_count": 10,
     "metadata": {},
     "output_type": "execute_result"
    },
    {
     "data": {
      "image/png": "[encoded data removed]",
      "text/plain": [
       "<Figure size 432x288 with 1 Axes>"
      ]
     },
     "metadata": {},
     "output_type": "display_data"
    }
   ],
   "source": [
    "labels = ['non frauds','fraud']\n",
    "classes = pd.value_counts(df_train['is_fraud'], sort = True)\n",
    "classes.plot(kind = 'bar', rot=0)\n",
    "plt.title(\"Transaction class distribution\")\n",
    "plt.xticks(range(2), labels)\n",
    "plt.xlabel(\"is_fraud\")\n",
    "plt.ylabel(\"Frequency\")"
   ]
  },
  {
   "cell_type": "code",
   "execution_count": 25,
   "id": "c9b66a96",
   "metadata": {},
   "outputs": [],
   "source": [
    "X_train = df_train.drop(columns = 'is_fraud')\n",
    "X_test = df_test.drop(columns = 'is_fraud')\n",
    "y_train = df_train['is_fraud']\n",
    "y_test = df_test['is_fraud']"
   ]
  },
  {
   "cell_type": "code",
   "execution_count": 26,
   "id": "edf9160c",
   "metadata": {},
   "outputs": [],
   "source": [
    "X_train = normalize(X_train)\n",
    "X_test = normalize(X_test)"
   ]
  },
  {
   "cell_type": "code",
   "execution_count": 27,
   "id": "0394dd2b",
   "metadata": {},
   "outputs": [],
   "source": [
    "neighbours = np.arange(1,25)\n",
    "train_accuracy =np.empty(len(neighbours))\n",
    "test_accuracy = np.empty(len(neighbours))\n",
    "\n",
    "for i,k in enumerate(neighbours):\n",
    "    #Setup a knn classifier with k neighbors\n",
    "    knn=KNeighborsClassifier(n_neighbors=k,algorithm=\"kd_tree\",n_jobs=-1)\n",
    "    \n",
    "    #Fit the model\n",
    "    knn.fit(X_train,y_train.ravel())\n",
    "    \n",
    "    #Compute accuracy on the training set\n",
    "    train_accuracy[i] = knn.score(X_train, y_train.ravel())\n",
    "    \n",
    "    #Compute accuracy on the test set\n",
    "    test_accuracy[i] = knn.score(X_test, y_test.ravel())"
   ]
  },
  {
   "cell_type": "code",
   "execution_count": 28,
   "id": "3ae4d3e9",
   "metadata": {},
   "outputs": [
    {
     "data": {
      "image/png": "[encoded data removed]",
      "text/plain": [
       "<Figure size 432x288 with 1 Axes>"
      ]
     },
     "metadata": {},
     "output_type": "display_data"
    }
   ],
   "source": [
    "#Generate plot\n",
    "plt.title('k-NN Varying number of neighbors')\n",
    "plt.plot(neighbours, test_accuracy, label='Testing Accuracy')\n",
    "plt.plot(neighbours, train_accuracy, label='Training accuracy')\n",
    "plt.legend()\n",
    "plt.xlabel('Number of neighbors')\n",
    "plt.ylabel('Accuracy')\n",
    "plt.show()"
   ]
  },
  {
   "cell_type": "code",
   "execution_count": 29,
   "id": "a48b1f72",
   "metadata": {},
   "outputs": [],
   "source": [
    "idx = np.where(test_accuracy == max(test_accuracy))\n",
    "x = neighbours[idx]"
   ]
  },
  {
   "cell_type": "code",
   "execution_count": 30,
   "id": "2f256b1f",
   "metadata": {},
   "outputs": [
    {
     "data": {
      "text/plain": [
       "KNeighborsClassifier(algorithm='kd_tree', n_jobs=-1, n_neighbors=2)"
      ]
     },
     "execution_count": 30,
     "metadata": {},
     "output_type": "execute_result"
    }
   ],
   "source": [
    "#k_nearest_neighbours_classification\n",
    "knn=KNeighborsClassifier(n_neighbors=x[0],algorithm=\"kd_tree\",n_jobs=-1)\n",
    "knn.fit(X_train,y_train.ravel())"
   ]
  },
  {
   "cell_type": "code",
   "execution_count": 31,
   "id": "c9118cef",
   "metadata": {},
   "outputs": [
    {
     "data": {
      "text/plain": [
       "['finalized_model.sav']"
      ]
     },
     "execution_count": 31,
     "metadata": {},
     "output_type": "execute_result"
    }
   ],
   "source": [
    "# save the model to disk\n",
    "filename = 'finalized_model.sav'\n",
    "joblib.dump(knn, filename)"
   ]
  },
  {
   "cell_type": "code",
   "execution_count": 34,
   "id": "8105602a",
   "metadata": {},
   "outputs": [],
   "source": [
    "# load the model from disk\n",
    "knn = joblib.load(filename)"
   ]
  },
  {
   "cell_type": "code",
   "execution_count": 35,
   "id": "84c4114d",
   "metadata": {},
   "outputs": [],
   "source": [
    "# predicting labels for testing set\n",
    "knn_predicted_test_labels=knn.predict(X_test)"
   ]
  },
  {
   "cell_type": "code",
   "execution_count": 36,
   "id": "9c916baf",
   "metadata": {},
   "outputs": [
    {
     "data": {
      "text/plain": [
       "Text(0.5, 1.0, ' Number of Blobs')"
      ]
     },
     "execution_count": 36,
     "metadata": {},
     "output_type": "execute_result"
    },
    {
     "data": {
      "image/png": "[encoded data removed]",
      "text/plain": [
       "<Figure size 1008x576 with 1 Axes>"
      ]
     },
     "metadata": {},
     "output_type": "display_data"
    }
   ],
   "source": [
    "from pylab import rcParams\n",
    "#plt.figure(figsize=(12, 12))\n",
    "rcParams['figure.figsize'] = 14, 8\n",
    "plt.subplot(222)\n",
    "plt.scatter(X_test[:, 0], X_test[:, 0], c=knn_predicted_test_labels)\n",
    "plt.title(\" Number of Blobs\")"
   ]
  },
  {
   "cell_type": "code",
   "execution_count": 37,
   "id": "36911350",
   "metadata": {},
   "outputs": [],
   "source": [
    "#scoring knn\n",
    "knn_accuracy_score  = accuracy_score(y_test,knn_predicted_test_labels)\n",
    "knn_precison_score  = precision_score(y_test,knn_predicted_test_labels)\n",
    "knn_recall_score    = recall_score(y_test,knn_predicted_test_labels)\n",
    "knn_f1_score        = f1_score(y_test,knn_predicted_test_labels)\n",
    "knn_MCC             = matthews_corrcoef(y_test,knn_predicted_test_labels)"
   ]
  },
  {
   "cell_type": "code",
   "execution_count": 38,
   "id": "73bd84e2",
   "metadata": {},
   "outputs": [
    {
     "name": "stdout",
     "output_type": "stream",
     "text": [
      "\n",
      "K-Nearest Neighbours\n",
      "Scores\n",
      "Accuracy --> 0.9628697905419996\n",
      "Precison --> 0.06019047619047619\n",
      "Recall --> 0.5846438482886216\n",
      "F1 --> 0.10914428805802606\n",
      "MCC --> 0.1792262667990546\n",
      "              precision    recall  f1-score   support\n",
      "\n",
      "           0       1.00      0.96      0.98    276779\n",
      "           1       0.06      0.58      0.11      1081\n",
      "\n",
      "    accuracy                           0.96    277860\n",
      "   macro avg       0.53      0.77      0.55    277860\n",
      "weighted avg       0.99      0.96      0.98    277860\n",
      "\n"
     ]
    }
   ],
   "source": [
    "#printing\n",
    "print(\"\")\n",
    "print(\"K-Nearest Neighbours\")\n",
    "print(\"Scores\")\n",
    "print(\"Accuracy -->\",knn_accuracy_score)\n",
    "print(\"Precison -->\",knn_precison_score)\n",
    "print(\"Recall -->\",knn_recall_score)\n",
    "print(\"F1 -->\",knn_f1_score)\n",
    "print(\"MCC -->\",knn_MCC)\n",
    "print(classification_report(y_test,knn_predicted_test_labels))"
   ]
  },
  {
   "cell_type": "code",
   "execution_count": 39,
   "id": "c4c25d97",
   "metadata": {},
   "outputs": [
    {
     "data": {
      "image/png": "[encoded data removed]",
      "text/plain": [
       "<Figure size 864x864 with 2 Axes>"
      ]
     },
     "metadata": {},
     "output_type": "display_data"
    }
   ],
   "source": [
    "import seaborn as sns\n",
    "LABELS = ['Normal', 'Fraud']\n",
    "conf_matrix = confusion_matrix(y_test, knn_predicted_test_labels)\n",
    "plt.figure(figsize=(12, 12))\n",
    "sns.heatmap(conf_matrix, xticklabels=LABELS, yticklabels=LABELS, annot=True, fmt=\"d\");\n",
    "plt.title(\"Confusion matrix\")\n",
    "plt.ylabel('True class')\n",
    "plt.xlabel('Predicted class')\n",
    "plt.show()"
   ]
  },
  {
   "cell_type": "markdown",
   "id": "bced210c",
   "metadata": {},
   "source": [
    "## Due to SMOTE based oversampling, the classification model is highly imprecise and this affects the f1 score when a greater number of neighbours are used"
   ]
  }
 ],
 "metadata": {
  "kernelspec": {
   "display_name": "Python 3 (ipykernel)",
   "language": "python",
   "name": "python3"
  },
  "language_info": {
   "codemirror_mode": {
    "name": "ipython",
    "version": 3
   },
   "file_extension": ".py",
   "mimetype": "text/x-python",
   "name": "python",
   "nbconvert_exporter": "python",
   "pygments_lexer": "ipython3",
   "version": "3.9.7"
  }
 },
 "nbformat": 4,
 "nbformat_minor": 5
}
